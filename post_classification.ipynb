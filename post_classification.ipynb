{
  "nbformat": 4,
  "nbformat_minor": 0,
  "metadata": {
    "colab": {
      "name": "post-classification.ipynb",
      "provenance": [],
      "authorship_tag": "ABX9TyMFwqDPiyt+FYvIpASBXWUa",
      "include_colab_link": true
    },
    "kernelspec": {
      "name": "python3",
      "display_name": "Python 3"
    }
  },
  "cells": [
    {
      "cell_type": "markdown",
      "metadata": {
        "id": "view-in-github",
        "colab_type": "text"
      },
      "source": [
        "<a href=\"https://colab.research.google.com/github/KasraOstad/Vineyard-Classification-in-Sussex/blob/master/post_classification.ipynb\" target=\"_parent\"><img src=\"https://colab.research.google.com/assets/colab-badge.svg\" alt=\"Open In Colab\"/></a>"
      ]
    },
    {
      "cell_type": "markdown",
      "metadata": {
        "id": "87FoLk-K0vJX",
        "colab_type": "text"
      },
      "source": [
        "Similar to the GEE notebook, this notebook delved in extracting the relevant data for the 750 random vineyard points so that a 95% confidence interval of the median could be bootstrapped for each satellite band"
      ]
    },
    {
      "cell_type": "code",
      "metadata": {
        "id": "rCCuZ2rIaQt-",
        "colab_type": "code",
        "colab": {
          "base_uri": "https://localhost:8080/",
          "height": 171
        },
        "outputId": "beb3b593-b428-4e98-a5d2-447ea9a61fa1"
      },
      "source": [
        "import ee\n",
        "import time\n",
        "\n",
        "#Authenticate to the Earth Engine servers\n",
        "ee.Authenticate()\n",
        "\n",
        "#Initialize the API\n",
        "ee.Initialize()"
      ],
      "execution_count": null,
      "outputs": [
        {
          "output_type": "stream",
          "text": [
            "To authorize access needed by Earth Engine, open the following URL in a web browser and follow the instructions. If the web browser does not start automatically, please manually browse the URL below.\n",
            "\n",
            "    https://accounts.google.com/o/oauth2/auth?client_id=517222506229-vsmmajv00ul0bs7p89v5m89qs8eb9359.apps.googleusercontent.com&scope=https%3A%2F%2Fwww.googleapis.com%2Fauth%2Fearthengine+https%3A%2F%2Fwww.googleapis.com%2Fauth%2Fdevstorage.full_control&redirect_uri=urn%3Aietf%3Awg%3Aoauth%3A2.0%3Aoob&response_type=code&code_challenge=X8NuvKhUDO9x9fzKrdL9hUj__DELePAppwJi_hYvIMY&code_challenge_method=S256\n",
            "\n",
            "The authorization workflow will generate a code, which you should paste in the box below. \n",
            "Enter verification code: 4/3AGpcgEK47WIMea96UE6zsul7DiI2UBXiFBQgB6ksx-t90YFQ9AQLQ4\n",
            "\n",
            "Successfully saved authorization token.\n"
          ],
          "name": "stdout"
        }
      ]
    },
    {
      "cell_type": "code",
      "metadata": {
        "id": "k45SEHnRacJ_",
        "colab_type": "code",
        "colab": {
          "base_uri": "https://localhost:8080/",
          "height": 34
        },
        "outputId": "e5157b4b-3f54-422f-e857-52c978ee5d97"
      },
      "source": [
        "#Load vineyard random points\n",
        "vineyardsID='users/aghajaniwork/random_points'\n",
        "vineyard_fc= ee.FeatureCollection(vineyardsID)\n",
        "\n",
        "\n",
        "vineyard_fc.size().getInfo()"
      ],
      "execution_count": null,
      "outputs": [
        {
          "output_type": "execute_result",
          "data": {
            "text/plain": [
              "750"
            ]
          },
          "metadata": {
            "tags": []
          },
          "execution_count": 2
        }
      ]
    },
    {
      "cell_type": "code",
      "metadata": {
        "id": "LTAM3f5ROuVX",
        "colab_type": "code",
        "colab": {
          "base_uri": "https://localhost:8080/",
          "height": 50
        },
        "outputId": "05f83ff2-167e-49c0-c2f5-dad07727268f"
      },
      "source": [
        "#Load Satellite of interest\n",
        "collection=('COPERNICUS/S2_SR')\n",
        "s2=ee.ImageCollection(collection)\n",
        "\n",
        "#Define Area of interest\n",
        "area_list= list ([(-0.831,51.1),(-0.831,50.711),(0.127,50.711),(0.127,51.1),(-0.831,51.1)])\n",
        "AOI=ee.Geometry.Polygon(area_list)\n",
        "\n",
        "#Filter image collection with AOI\n",
        "s2=s2.filterBounds(AOI)\n",
        "\n",
        "#Filter image collection with date\n",
        "s2=s2.filterDate('2019-08-24','2019-08-26')\n",
        "\n",
        "s2_list=s2.toList(s2.size())\n",
        "\n",
        "\n",
        "#Find dates of our filtered image collection\n",
        "dates=[]\n",
        "\n",
        "for i in range(0, s2_list.size().getInfo()):\n",
        "  image=ee.Image(s2_list.get(i))\n",
        "  date=ee.Number.parse(image.date().format(\"YYYYMMdd\"))\n",
        "  dates.append(date.getInfo())\n",
        "\n",
        "print(dates)  \n",
        "s2.size().getInfo()"
      ],
      "execution_count": null,
      "outputs": [
        {
          "output_type": "stream",
          "text": [
            "[20190825, 20190825]\n"
          ],
          "name": "stdout"
        },
        {
          "output_type": "execute_result",
          "data": {
            "text/plain": [
              "2"
            ]
          },
          "metadata": {
            "tags": []
          },
          "execution_count": 3
        }
      ]
    },
    {
      "cell_type": "code",
      "metadata": {
        "id": "5kHPnGRiO_vT",
        "colab_type": "code",
        "colab": {
          "base_uri": "https://localhost:8080/",
          "height": 34
        },
        "outputId": "19027cd5-b13f-40b9-92cb-632c069a94d5"
      },
      "source": [
        "mosaic = s2.mosaic()\n",
        "\n",
        "ndvi = mosaic.normalizedDifference(['B8', 'B4'])\n",
        "\n",
        "ndwi=mosaic.normalizedDifference(['B8','B11'])\n",
        "\n",
        "evi2 = mosaic.expression(\n",
        "    '2.5 * ((NIR - RED) / (NIR + 2.4 * RED + 1))', {\n",
        "    'NIR': mosaic.select('B8'),\n",
        "    'RED': mosaic.select('B4')}\n",
        ")\n",
        "\n",
        "cl=mosaic.expression(\n",
        "    '(RED3 / RED1) -1',{\n",
        "    'RED3': mosaic.select('B7'),\n",
        "    'RED1': mosaic.select('B5')\n",
        "    }\n",
        ")\n",
        "\n",
        "#Create gg.image with all vegetation bands\n",
        "veg=ndvi.addBands(ndwi)\n",
        "veg=veg.addBands(evi2)\n",
        "veg=veg.addBands(cl)\n",
        "\n",
        "#Rename Vegetation bands\n",
        "veg=veg.select(veg.bandNames().getInfo(),['NDVI', 'NDWI', 'EVI2', 'CL'])\n",
        "\n",
        "s2_veg=mosaic.select(['B1', 'B2', 'B3', 'B4', 'B5', 'B6', 'B7', 'B8', 'B8A', 'B9', 'B11', 'B12'])\n",
        "s2_veg=s2_veg.addBands(veg)\n",
        "\n",
        "print(s2_veg.bandNames().getInfo())\n"
      ],
      "execution_count": null,
      "outputs": [
        {
          "output_type": "stream",
          "text": [
            "['B1', 'B2', 'B3', 'B4', 'B5', 'B6', 'B7', 'B8', 'B8A', 'B9', 'B11', 'B12', 'NDVI', 'NDWI', 'EVI2', 'CL']\n"
          ],
          "name": "stdout"
        }
      ]
    },
    {
      "cell_type": "code",
      "metadata": {
        "id": "NYyxhD3GPsXQ",
        "colab_type": "code",
        "colab": {
          "base_uri": "https://localhost:8080/",
          "height": 34
        },
        "outputId": "074a33c9-49ef-4d4f-c8db-698c4828a300"
      },
      "source": [
        "#Filter Sentine 1 for our date and region of interest\n",
        "sentinel1 = ee.ImageCollection('COPERNICUS/S1_GRD')\\\n",
        "              .filterDate('2019-08-25','2019-08-26')\n",
        "sentinel1=sentinel1.filterBounds(AOI)\n",
        "\n",
        "# Filter by metadata properties.\n",
        "# 1. Filter to get images with VV and VH dual polarization.\n",
        "# 2. Filter to get images collected in interferometric wide swath mode.\n",
        "#IW, with VV+VH polarisation over land\n",
        "\n",
        "vh = sentinel1.filter(ee.Filter.listContains('transmitterReceiverPolarisation', 'VV'))\\\n",
        "              .filter(ee.Filter.listContains('transmitterReceiverPolarisation', 'VH'))\\\n",
        "              .filter(ee.Filter.eq('instrumentMode', 'IW'))\n",
        "\n",
        "    \n",
        "vh_list=vh.toList(vh.size())\n",
        "\n",
        "dates=[]\n",
        "\n",
        "for i in range(0, vh_list.size().getInfo()):\n",
        "  image=ee.Image(vh_list.get(i))\n",
        "  date=ee.Number.parse(image.date().format(\"YYYYMMdd\"))\n",
        "  dates.append(date.getInfo())\n",
        "\n",
        "print(dates)  \n"
      ],
      "execution_count": null,
      "outputs": [
        {
          "output_type": "stream",
          "text": [
            "[20190825]\n"
          ],
          "name": "stdout"
        }
      ]
    },
    {
      "cell_type": "code",
      "metadata": {
        "id": "ogk-2D8iSewF",
        "colab_type": "code",
        "colab": {
          "base_uri": "https://localhost:8080/",
          "height": 319
        },
        "outputId": "6c5fc22b-14d5-4b5a-8f17-e031899b6495"
      },
      "source": [
        "s1=vh.first()\n",
        "\n",
        "\n",
        "s1=s1.select(['VV','VH'])\n",
        "\n",
        "s1_s2_veg=s2_veg.addBands(s1)\n",
        "s1_s2_veg.bandNames().getInfo()\n"
      ],
      "execution_count": null,
      "outputs": [
        {
          "output_type": "execute_result",
          "data": {
            "text/plain": [
              "['B1',\n",
              " 'B2',\n",
              " 'B3',\n",
              " 'B4',\n",
              " 'B5',\n",
              " 'B6',\n",
              " 'B7',\n",
              " 'B8',\n",
              " 'B8A',\n",
              " 'B9',\n",
              " 'B11',\n",
              " 'B12',\n",
              " 'NDVI',\n",
              " 'NDWI',\n",
              " 'EVI2',\n",
              " 'CL',\n",
              " 'VV',\n",
              " 'VH']"
            ]
          },
          "metadata": {
            "tags": []
          },
          "execution_count": 12
        }
      ]
    },
    {
      "cell_type": "code",
      "metadata": {
        "id": "_tynEP5T9qv-",
        "colab_type": "code",
        "colab": {
          "base_uri": "https://localhost:8080/",
          "height": 420
        },
        "outputId": "2876e831-5510-465a-c985-35629670a49a"
      },
      "source": [
        "def s1_find_date (start,end):\n",
        "  sentinel1 = ee.ImageCollection('COPERNICUS/S1_GRD')\\\n",
        "              .filterDate(start,end)\n",
        "  sentinel1=sentinel1.filterBounds(AOI)\n",
        "\n",
        "  # Filter by metadata properties.\n",
        "  # 1. Filter to get images with VV and VH dual polarization.\n",
        "  # 2. Filter to get images collected in interferometric wide swath mode.\n",
        "  #IW, with VV+VH polarisation over land\n",
        "\n",
        "  vh = sentinel1.filter(ee.Filter.listContains('transmitterReceiverPolarisation', 'VV'))\\\n",
        "                .filter(ee.Filter.listContains('transmitterReceiverPolarisation', 'VH'))\\\n",
        "                .filter(ee.Filter.eq('instrumentMode', 'IW')) \n",
        "\n",
        "  vh_list=vh.toList(vh.size())\n",
        "\n",
        "  dates=[]\n",
        "\n",
        "  for i in range(0, vh_list.size().getInfo()):\n",
        "    image=ee.Image(vh_list.get(i))\n",
        "    date=ee.Number.parse(image.date().format(\"YYYYMMdd\"))\n",
        "    dates.append(date.getInfo())\n",
        "  \n",
        "  print(dates)\n",
        "  return vh_list\n",
        "\n",
        "s1_im_list=s1_find_date('2019-04-29','2019-05-01')\n",
        "s1_im2= ee.Image(s1_im_list.get(2))\n",
        "s1_2=s1_im2.select(['VV','VH'])\n",
        "\n",
        "s1_im_list=s1_find_date('2019-06-22','2019-06-24')\n",
        "s1_im3= ee.Image(s1_im_list.get(0))\n",
        "s1_3=s1_im3.select(['VV','VH'])\n",
        "\n",
        "s1TS_s2_veg=s1_s2_veg.addBands(s1_2)\n",
        "s1TS_s2_veg=s1TS_s2_veg.addBands(s1_3)\n",
        "s1TS_s2_veg.bandNames().getInfo()\n"
      ],
      "execution_count": null,
      "outputs": [
        {
          "output_type": "stream",
          "text": [
            "[20190429, 20190429, 20190430]\n",
            "[20190623, 20190622]\n"
          ],
          "name": "stdout"
        },
        {
          "output_type": "execute_result",
          "data": {
            "text/plain": [
              "['B1',\n",
              " 'B2',\n",
              " 'B3',\n",
              " 'B4',\n",
              " 'B5',\n",
              " 'B6',\n",
              " 'B7',\n",
              " 'B8',\n",
              " 'B8A',\n",
              " 'B9',\n",
              " 'B11',\n",
              " 'B12',\n",
              " 'NDVI',\n",
              " 'NDWI',\n",
              " 'EVI2',\n",
              " 'CL',\n",
              " 'VV',\n",
              " 'VH',\n",
              " 'VV_1',\n",
              " 'VH_1',\n",
              " 'VV_2',\n",
              " 'VH_2']"
            ]
          },
          "metadata": {
            "tags": []
          },
          "execution_count": 14
        }
      ]
    },
    {
      "cell_type": "code",
      "metadata": {
        "id": "k7t8-gvI-aoe",
        "colab_type": "code",
        "colab": {}
      },
      "source": [
        ""
      ],
      "execution_count": null,
      "outputs": []
    },
    {
      "cell_type": "code",
      "metadata": {
        "id": "EFPqb7HLSqXh",
        "colab_type": "code",
        "colab": {}
      },
      "source": [
        "#Extract satellite band information for all our polygons\n",
        "#Restricted to only 3 bands at a time\n",
        "def feature_extract(fc,img,fol):\n",
        "  asset_name='users/aghajaniwork/'+fc\n",
        "  polygons= ee.FeatureCollection(asset_name)\n",
        "\n",
        "  polygon_stats=img.reduceRegions(**{\n",
        "    'collection':polygons,\n",
        "    'reducer':ee.Reducer.median(),\n",
        "    'scale':  10 \n",
        "  })\n",
        "\n",
        "  task=ee.batch.Export.table.toDrive(**{\n",
        "  'collection': polygon_stats,\n",
        "  'description': fc,\n",
        "  'fileFormat': 'SHP',\n",
        "  'folder':fol\n",
        "  })\n",
        "\n",
        "  task.start()\n",
        "\n",
        "  while task.active():\n",
        "    print('Extraction Processing...'.format(task.id))\n",
        "    time.sleep(30)\n",
        "\n",
        "  return  task.status() \n",
        "\n"
      ],
      "execution_count": null,
      "outputs": []
    },
    {
      "cell_type": "code",
      "metadata": {
        "id": "unFLtUlkUMSv",
        "colab_type": "code",
        "colab": {
          "base_uri": "https://localhost:8080/",
          "height": 286
        },
        "outputId": "ffc7a860-52a6-4cc7-bb80-459267f5a6b0"
      },
      "source": [
        "feature_extract('random_points',s1TS_s2_veg,'vin_rp2')"
      ],
      "execution_count": null,
      "outputs": [
        {
          "output_type": "stream",
          "text": [
            "Extraction Processing...\n",
            "Extraction Processing...\n"
          ],
          "name": "stdout"
        },
        {
          "output_type": "execute_result",
          "data": {
            "text/plain": [
              "{'creation_timestamp_ms': 1597191002701,\n",
              " 'description': 'random_points',\n",
              " 'destination_uris': ['https://drive.google.com/#folders/1qSbxt37AWfxC_n5vr4V6jAlAWx8s3-m8',\n",
              "  'https://drive.google.com/#folders/1qSbxt37AWfxC_n5vr4V6jAlAWx8s3-m8',\n",
              "  'https://drive.google.com/#folders/1qSbxt37AWfxC_n5vr4V6jAlAWx8s3-m8',\n",
              "  'https://drive.google.com/#folders/1qSbxt37AWfxC_n5vr4V6jAlAWx8s3-m8',\n",
              "  'https://drive.google.com/#folders/1qSbxt37AWfxC_n5vr4V6jAlAWx8s3-m8',\n",
              "  'https://drive.google.com/#folders/1qSbxt37AWfxC_n5vr4V6jAlAWx8s3-m8'],\n",
              " 'id': '6WOJPJJD2CPFMEGHNYMAG53V',\n",
              " 'name': 'projects/earthengine-legacy/operations/6WOJPJJD2CPFMEGHNYMAG53V',\n",
              " 'start_timestamp_ms': 1597191022408,\n",
              " 'state': 'COMPLETED',\n",
              " 'task_type': 'EXPORT_FEATURES',\n",
              " 'update_timestamp_ms': 1597191034504}"
            ]
          },
          "metadata": {
            "tags": []
          },
          "execution_count": 17
        }
      ]
    },
    {
      "cell_type": "code",
      "metadata": {
        "id": "47Ag1t4wUZtm",
        "colab_type": "code",
        "colab": {}
      },
      "source": [
        ""
      ],
      "execution_count": null,
      "outputs": []
    }
  ]
}