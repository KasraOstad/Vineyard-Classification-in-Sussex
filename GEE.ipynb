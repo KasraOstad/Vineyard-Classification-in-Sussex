{
  "nbformat": 4,
  "nbformat_minor": 0,
  "metadata": {
    "colab": {
      "name": "GEE.ipynb",
      "provenance": [],
      "authorship_tag": "ABX9TyMfb4Ui7uaagwDRQ6pf+3Dd",
      "include_colab_link": true
    },
    "kernelspec": {
      "name": "python3",
      "display_name": "Python 3"
    }
  },
  "cells": [
    {
      "cell_type": "markdown",
      "metadata": {
        "id": "view-in-github",
        "colab_type": "text"
      },
      "source": [
        "<a href=\"https://colab.research.google.com/github/KasraOstad/Vineyard-Classification-in-Sussex/blob/master/GEE.ipynb\" target=\"_parent\"><img src=\"https://colab.research.google.com/assets/colab-badge.svg\" alt=\"Open In Colab\"/></a>"
      ]
    },
    {
      "cell_type": "markdown",
      "metadata": {
        "id": "4QSFoSR81b_G",
        "colab_type": "text"
      },
      "source": [
        "This notebook was used to extract data from all of the relevant satellite images for each polygon in our study area"
      ]
    },
    {
      "cell_type": "code",
      "metadata": {
        "id": "vdwdxTlm9i5u",
        "colab_type": "code",
        "colab": {
          "base_uri": "https://localhost:8080/",
          "height": 1000
        },
        "outputId": "7a2c607a-35e5-44b7-8685-6401a8b67734"
      },
      "source": [
        "!pip install folium\n",
        "!pip install geehydro\n",
        "\n",
        "import ee\n",
        "from datetime import datetime as dt\n",
        "from IPython.display import Image\n",
        "import pandas as pd\n",
        "import matplotlib.pyplot as plt\n",
        "import time\n",
        "import folium\n",
        "import geehydro\n",
        "\n",
        "#Authenticate to the Earth Engine servers\n",
        "ee.Authenticate()\n",
        "\n",
        "#Initialize the API\n",
        "ee.Initialize()"
      ],
      "execution_count": null,
      "outputs": [
        {
          "output_type": "stream",
          "text": [
            "Requirement already satisfied: folium in /usr/local/lib/python3.6/dist-packages (0.8.3)\n",
            "Requirement already satisfied: jinja2 in /usr/local/lib/python3.6/dist-packages (from folium) (2.11.2)\n",
            "Requirement already satisfied: requests in /usr/local/lib/python3.6/dist-packages (from folium) (2.23.0)\n",
            "Requirement already satisfied: branca>=0.3.0 in /usr/local/lib/python3.6/dist-packages (from folium) (0.4.1)\n",
            "Requirement already satisfied: six in /usr/local/lib/python3.6/dist-packages (from folium) (1.15.0)\n",
            "Requirement already satisfied: numpy in /usr/local/lib/python3.6/dist-packages (from folium) (1.18.5)\n",
            "Requirement already satisfied: MarkupSafe>=0.23 in /usr/local/lib/python3.6/dist-packages (from jinja2->folium) (1.1.1)\n",
            "Requirement already satisfied: chardet<4,>=3.0.2 in /usr/local/lib/python3.6/dist-packages (from requests->folium) (3.0.4)\n",
            "Requirement already satisfied: urllib3!=1.25.0,!=1.25.1,<1.26,>=1.21.1 in /usr/local/lib/python3.6/dist-packages (from requests->folium) (1.24.3)\n",
            "Requirement already satisfied: idna<3,>=2.5 in /usr/local/lib/python3.6/dist-packages (from requests->folium) (2.10)\n",
            "Requirement already satisfied: certifi>=2017.4.17 in /usr/local/lib/python3.6/dist-packages (from requests->folium) (2020.6.20)\n",
            "Collecting geehydro\n",
            "  Downloading https://files.pythonhosted.org/packages/fc/8c/2174f8ad7a02d250094acf9ad30a56e52e9bcfd2ab49de122f21c4ba13dc/geehydro-0.2.0.tar.gz\n",
            "Requirement already satisfied: earthengine-api in /usr/local/lib/python3.6/dist-packages (from geehydro) (0.1.229)\n",
            "Requirement already satisfied: folium in /usr/local/lib/python3.6/dist-packages (from geehydro) (0.8.3)\n",
            "Requirement already satisfied: click in /usr/local/lib/python3.6/dist-packages (from geehydro) (7.1.2)\n",
            "Requirement already satisfied: google-auth-httplib2>=0.0.3 in /usr/local/lib/python3.6/dist-packages (from earthengine-api->geehydro) (0.0.4)\n",
            "Requirement already satisfied: six in /usr/local/lib/python3.6/dist-packages (from earthengine-api->geehydro) (1.15.0)\n",
            "Requirement already satisfied: google-cloud-storage in /usr/local/lib/python3.6/dist-packages (from earthengine-api->geehydro) (1.18.1)\n",
            "Requirement already satisfied: future in /usr/local/lib/python3.6/dist-packages (from earthengine-api->geehydro) (0.16.0)\n",
            "Requirement already satisfied: google-auth>=1.4.1 in /usr/local/lib/python3.6/dist-packages (from earthengine-api->geehydro) (1.17.2)\n",
            "Requirement already satisfied: httplib2shim in /usr/local/lib/python3.6/dist-packages (from earthengine-api->geehydro) (0.0.3)\n",
            "Requirement already satisfied: httplib2<1dev,>=0.9.2 in /usr/local/lib/python3.6/dist-packages (from earthengine-api->geehydro) (0.17.4)\n",
            "Requirement already satisfied: google-api-python-client in /usr/local/lib/python3.6/dist-packages (from earthengine-api->geehydro) (1.7.12)\n",
            "Requirement already satisfied: branca>=0.3.0 in /usr/local/lib/python3.6/dist-packages (from folium->geehydro) (0.4.1)\n",
            "Requirement already satisfied: requests in /usr/local/lib/python3.6/dist-packages (from folium->geehydro) (2.23.0)\n",
            "Requirement already satisfied: numpy in /usr/local/lib/python3.6/dist-packages (from folium->geehydro) (1.18.5)\n",
            "Requirement already satisfied: jinja2 in /usr/local/lib/python3.6/dist-packages (from folium->geehydro) (2.11.2)\n",
            "Requirement already satisfied: google-resumable-media<0.5.0dev,>=0.3.1 in /usr/local/lib/python3.6/dist-packages (from google-cloud-storage->earthengine-api->geehydro) (0.4.1)\n",
            "Requirement already satisfied: google-cloud-core<2.0dev,>=1.0.0 in /usr/local/lib/python3.6/dist-packages (from google-cloud-storage->earthengine-api->geehydro) (1.0.3)\n",
            "Requirement already satisfied: rsa<5,>=3.1.4; python_version >= \"3\" in /usr/local/lib/python3.6/dist-packages (from google-auth>=1.4.1->earthengine-api->geehydro) (4.6)\n",
            "Requirement already satisfied: pyasn1-modules>=0.2.1 in /usr/local/lib/python3.6/dist-packages (from google-auth>=1.4.1->earthengine-api->geehydro) (0.2.8)\n",
            "Requirement already satisfied: setuptools>=40.3.0 in /usr/local/lib/python3.6/dist-packages (from google-auth>=1.4.1->earthengine-api->geehydro) (49.2.0)\n",
            "Requirement already satisfied: cachetools<5.0,>=2.0.0 in /usr/local/lib/python3.6/dist-packages (from google-auth>=1.4.1->earthengine-api->geehydro) (4.1.1)\n",
            "Requirement already satisfied: certifi in /usr/local/lib/python3.6/dist-packages (from httplib2shim->earthengine-api->geehydro) (2020.6.20)\n",
            "Requirement already satisfied: urllib3 in /usr/local/lib/python3.6/dist-packages (from httplib2shim->earthengine-api->geehydro) (1.24.3)\n",
            "Requirement already satisfied: uritemplate<4dev,>=3.0.0 in /usr/local/lib/python3.6/dist-packages (from google-api-python-client->earthengine-api->geehydro) (3.0.1)\n",
            "Requirement already satisfied: chardet<4,>=3.0.2 in /usr/local/lib/python3.6/dist-packages (from requests->folium->geehydro) (3.0.4)\n",
            "Requirement already satisfied: idna<3,>=2.5 in /usr/local/lib/python3.6/dist-packages (from requests->folium->geehydro) (2.10)\n",
            "Requirement already satisfied: MarkupSafe>=0.23 in /usr/local/lib/python3.6/dist-packages (from jinja2->folium->geehydro) (1.1.1)\n",
            "Requirement already satisfied: google-api-core<2.0.0dev,>=1.14.0 in /usr/local/lib/python3.6/dist-packages (from google-cloud-core<2.0dev,>=1.0.0->google-cloud-storage->earthengine-api->geehydro) (1.16.0)\n",
            "Requirement already satisfied: pyasn1>=0.1.3 in /usr/local/lib/python3.6/dist-packages (from rsa<5,>=3.1.4; python_version >= \"3\"->google-auth>=1.4.1->earthengine-api->geehydro) (0.4.8)\n",
            "Requirement already satisfied: protobuf>=3.4.0 in /usr/local/lib/python3.6/dist-packages (from google-api-core<2.0.0dev,>=1.14.0->google-cloud-core<2.0dev,>=1.0.0->google-cloud-storage->earthengine-api->geehydro) (3.12.4)\n",
            "Requirement already satisfied: pytz in /usr/local/lib/python3.6/dist-packages (from google-api-core<2.0.0dev,>=1.14.0->google-cloud-core<2.0dev,>=1.0.0->google-cloud-storage->earthengine-api->geehydro) (2018.9)\n",
            "Requirement already satisfied: googleapis-common-protos<2.0dev,>=1.6.0 in /usr/local/lib/python3.6/dist-packages (from google-api-core<2.0.0dev,>=1.14.0->google-cloud-core<2.0dev,>=1.0.0->google-cloud-storage->earthengine-api->geehydro) (1.52.0)\n",
            "Building wheels for collected packages: geehydro\n",
            "  Building wheel for geehydro (setup.py) ... \u001b[?25l\u001b[?25hdone\n",
            "  Created wheel for geehydro: filename=geehydro-0.2.0-py2.py3-none-any.whl size=10113 sha256=3390ca5acef281827592ea9305b4bba281000b2ef071321546ebb138b8d90872\n",
            "  Stored in directory: /root/.cache/pip/wheels/c5/07/67/5fa6e7271b46bbe0acafdc7105bbee27a39ab7132d251d822d\n",
            "Successfully built geehydro\n",
            "Installing collected packages: geehydro\n",
            "Successfully installed geehydro-0.2.0\n",
            "To authorize access needed by Earth Engine, open the following URL in a web browser and follow the instructions. If the web browser does not start automatically, please manually browse the URL below.\n",
            "\n",
            "    https://accounts.google.com/o/oauth2/auth?client_id=517222506229-vsmmajv00ul0bs7p89v5m89qs8eb9359.apps.googleusercontent.com&scope=https%3A%2F%2Fwww.googleapis.com%2Fauth%2Fearthengine+https%3A%2F%2Fwww.googleapis.com%2Fauth%2Fdevstorage.full_control&redirect_uri=urn%3Aietf%3Awg%3Aoauth%3A2.0%3Aoob&response_type=code&code_challenge=b1POq4pXuy2aS5ohvkAvoVYTji6-RslrO0DCzSLv1vI&code_challenge_method=S256\n",
            "\n",
            "The authorization workflow will generate a code, which you should paste in the box below. \n",
            "Enter verification code: 4/3AGAh9lVgVogH6wTeXTlct7UW0jSBtebYhThGUpteNlWgpnZy__xsCk\n",
            "\n",
            "Successfully saved authorization token.\n"
          ],
          "name": "stdout"
        }
      ]
    },
    {
      "cell_type": "code",
      "metadata": {
        "id": "ZzZgPhu8-OvX",
        "colab_type": "code",
        "colab": {
          "base_uri": "https://localhost:8080/",
          "height": 67
        },
        "outputId": "c3fe0150-68be-40e4-9016-dfd45e848537"
      },
      "source": [
        "#Load Satellite of interest\n",
        "collection=('COPERNICUS/S2_SR')\n",
        "s2=ee.ImageCollection(collection)\n",
        "\n",
        "#Define Area of interest\n",
        "area_list= list ([(-0.831,51.1),(-0.831,50.711),(0.127,50.711),(0.127,51.1),(-0.831,51.1)])\n",
        "AOI=ee.Geometry.Polygon(area_list)\n",
        "\n",
        "#Filter image collection with AOI\n",
        "s2=s2.filterBounds(AOI)\n",
        "\n",
        "#Filter image collection with date\n",
        "s2=s2.filterDate('2019-07-01','2020-01-01')\n",
        "\n",
        "#Total number of images after filtering \n",
        "print('Total number:', s2.size().getInfo())\n",
        "\n",
        "#Filter image collection with cloud coverage meta\n",
        "least_cloudy_s2 =  s2.filterMetadata('CLOUD_COVERAGE_ASSESSMENT','less_than',10)\n",
        "print('Total number:', least_cloudy_s2.size().getInfo())\n",
        "\n",
        "zero_cloud_list=least_cloudy_s2.toList(least_cloudy_s2.size())\n",
        "\n",
        "#Find dates of our filtered image collection\n",
        "dates=[]\n",
        "for i in range(0, zero_cloud_list.size().getInfo()):\n",
        "  image=ee.Image(zero_cloud_list.get(i))\n",
        "  date=ee.Number.parse(image.date().format(\"YYYYMMdd\"))\n",
        "  dates.append(date.getInfo())\n",
        "\n",
        "print(dates)  \n"
      ],
      "execution_count": null,
      "outputs": [
        {
          "output_type": "stream",
          "text": [
            "Total number: 150\n",
            "Total number: 18\n",
            "[20190723, 20190723, 20190820, 20190822, 20190825, 20190825, 20190827, 20190904, 20190914, 20190914, 20190919, 20190921, 20190921, 20191118, 20191203, 20191225, 20191225, 20191230]\n"
          ],
          "name": "stdout"
        }
      ]
    },
    {
      "cell_type": "code",
      "metadata": {
        "id": "RMe18RAo-8kU",
        "colab_type": "code",
        "colab": {
          "base_uri": "https://localhost:8080/",
          "height": 866
        },
        "outputId": "e78d0289-53ca-4739-ed96-e7f58b3a898f"
      },
      "source": [
        "#Create Mosaic from images for our ROI and date\n",
        "aug_25_19=[ee.Image(zero_cloud_list.get(4)),ee.Image(zero_cloud_list.get(5))]\n",
        "im_25_08_19= ee.ImageCollection(aug_25_19)\n",
        "mosaic = im_25_08_19.mosaic()\n",
        "\n",
        "\n",
        "#Define NDVI index from mosaic and visualise the region and image\n",
        "ndvi = mosaic.normalizedDifference(['B8', 'B4'])\n",
        "\n",
        "palette = ['red', 'yellow', 'green']\n",
        "ndvi_parameters = {'min': 0,\n",
        "                   'max': 1,\n",
        "                   'dimensions': 512,\n",
        "                   'palette': palette,\n",
        "                   'region': AOI}\n",
        "                   \n",
        "\n",
        "sussex_map=folium.Map(location=[50.9665,-0.2275],zoom_start=7)\n",
        "sussex_map.addLayer(ndvi, ndvi_parameters)\n",
        "sussex_map"
      ],
      "execution_count": null,
      "outputs": [
        {
          "output_type": "execute_result",
          "data": {
            "text/html": [
              "<div style=\"width:100%;\"><div style=\"position:relative;width:100%;height:0;padding-bottom:60%;\"><span style=\"color:#565656\">Make this Notebook Trusted to load map: File -> Trust Notebook</span><iframe src=\"about:blank\" style=\"position:absolute;width:100%;height:100%;left:0;top:0;border:none !important;\" data-html=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 onload=\"this.contentDocument.open();this.contentDocument.write(atob(this.getAttribute('data-html')));this.contentDocument.close();\" allowfullscreen webkitallowfullscreen mozallowfullscreen></iframe></div></div>"
            ],
            "text/plain": [
              "<folium.folium.Map at 0x7fa2fbada4e0>"
            ]
          },
          "metadata": {
            "tags": []
          },
          "execution_count": 5
        }
      ]
    },
    {
      "cell_type": "code",
      "metadata": {
        "id": "FoC_PF_h_frz",
        "colab_type": "code",
        "colab": {
          "base_uri": "https://localhost:8080/",
          "height": 34
        },
        "outputId": "bbe37db6-bf21-4516-83ca-4b60a3b5bcbe"
      },
      "source": [
        "#Compute Other Vegetation Indicies\n",
        "ndwi=mosaic.normalizedDifference(['B8','B11'])\n",
        "\n",
        "evi2 = mosaic.expression(\n",
        "    '2.5 * ((NIR - RED) / (NIR + 2.4 * RED + 1))', {\n",
        "    'NIR': mosaic.select('B8'),\n",
        "    'RED': mosaic.select('B4')}\n",
        ")\n",
        "\n",
        "cl=mosaic.expression(\n",
        "    '(RED3 / RED1) -1',{\n",
        "    'RED3': mosaic.select('B7'),\n",
        "    'RED1': mosaic.select('B5')\n",
        "    }\n",
        ")\n",
        "\n",
        "#Create gg.image with all vegetation bands\n",
        "veg=ndvi.addBands(ndwi)\n",
        "veg=veg.addBands(evi2)\n",
        "veg=veg.addBands(cl)\n",
        "\n",
        "#Rename Vegetation bands\n",
        "veg=veg.select(veg.bandNames().getInfo(),['NDVI', 'NDWI', 'EVI2', 'CL'])\n",
        "\n",
        "#Filter out redundant S2_SR bands\n",
        "s2=mosaic.select(['B1', 'B2', 'B3', 'B4', 'B5', 'B6', 'B7', 'B8', 'B8A', 'B9', 'B11', 'B12','QA60'])\n",
        "\n",
        "#Add vegetation indicies to sentinel 2 image\n",
        "s2_veg=s2.addBands(veg)\n",
        "\n",
        "print(s2_veg.bandNames().getInfo())"
      ],
      "execution_count": null,
      "outputs": [
        {
          "output_type": "stream",
          "text": [
            "['B1', 'B2', 'B3', 'B4', 'B5', 'B6', 'B7', 'B8', 'B8A', 'B9', 'B11', 'B12', 'QA60', 'NDVI', 'NDWI', 'EVI2', 'CL']\n"
          ],
          "name": "stdout"
        }
      ]
    },
    {
      "cell_type": "code",
      "metadata": {
        "id": "4LUxJGkLEtMZ",
        "colab_type": "code",
        "colab": {}
      },
      "source": [
        "def s1_find_date (start,end):\n",
        "  sentinel1 = ee.ImageCollection('COPERNICUS/S1_GRD')\\\n",
        "              .filterDate(start,end)\n",
        "  sentinel1=sentinel1.filterBounds(AOI)\n",
        "\n",
        "  # Filter by metadata properties.\n",
        "  # 1. Filter to get images with VV and VH dual polarization.\n",
        "  # 2. Filter to get images collected in interferometric wide swath mode.\n",
        "  #IW, with VV+VH polarisation over land\n",
        "\n",
        "  vh = sentinel1.filter(ee.Filter.listContains('transmitterReceiverPolarisation', 'VV'))\\\n",
        "                .filter(ee.Filter.listContains('transmitterReceiverPolarisation', 'VH'))\\\n",
        "                .filter(ee.Filter.eq('instrumentMode', 'IW')) \n",
        "\n",
        "  vh_list=vh.toList(vh.size())\n",
        "\n",
        "  dates=[]\n",
        "\n",
        "  for i in range(0, vh_list.size().getInfo()):\n",
        "    image=ee.Image(vh_list.get(i))\n",
        "    date=ee.Number.parse(image.date().format(\"YYYYMMdd\"))\n",
        "    dates.append(date.getInfo())\n",
        "  \n",
        "  print(dates)\n",
        "  return vh_list\n",
        "\n"
      ],
      "execution_count": null,
      "outputs": []
    },
    {
      "cell_type": "code",
      "metadata": {
        "id": "Wq_uhUuAFNfS",
        "colab_type": "code",
        "colab": {
          "base_uri": "https://localhost:8080/",
          "height": 882
        },
        "outputId": "0090b80d-b027-40db-a7a1-576ee8a3f467"
      },
      "source": [
        "#Display Sentinel 1 image\n",
        "def Mapdisplay(center, dicc, Tiles=\"OpensTreetMap\",zoom_start=10):\n",
        "  \n",
        "    mapViz = folium.Map(location=center,tiles=Tiles, zoom_start=zoom_start)\n",
        "    for k,v in dicc.items():\n",
        "      if ee.image.Image in [type(x) for x in v.values()]:\n",
        "        folium.TileLayer(\n",
        "            tiles = v[\"tile_fetcher\"].url_format,\n",
        "            attr  = 'Google Earth Engine',\n",
        "            overlay =True,\n",
        "            name  = k\n",
        "          ).add_to(mapViz)\n",
        "      else:\n",
        "        folium.GeoJson(\n",
        "        data = v,\n",
        "        name = k\n",
        "          ).add_to(mapViz)\n",
        "    mapViz.add_child(folium.LayerControl())\n",
        "    return mapViz\n",
        "\n",
        "s1_im_list=s1_find_date('2019-08-20','2019-09-01')\n",
        "s1_im= ee.Image(s1_im_list.get(2))\n",
        "\n",
        "tk = s1_im.getMapId({'min': [-25, -20, -25], 'max': [0, 10, 0]})\n",
        "center=[51.1,-0.831]\n",
        "Mapdisplay(center,{'composite':tk},zoom_start=7)\n",
        "\n"
      ],
      "execution_count": null,
      "outputs": [
        {
          "output_type": "stream",
          "text": [
            "[20190820, 20190822, 20190825, 20190827, 20190827, 20190829, 20190830, 20190821, 20190824, 20190824, 20190826, 20190828, 20190831, 20190831]\n"
          ],
          "name": "stdout"
        },
        {
          "output_type": "execute_result",
          "data": {
            "text/html": [
              "<div style=\"width:100%;\"><div style=\"position:relative;width:100%;height:0;padding-bottom:60%;\"><span style=\"color:#565656\">Make this Notebook Trusted to load map: File -> Trust Notebook</span><iframe src=\"about:blank\" style=\"position:absolute;width:100%;height:100%;left:0;top:0;border:none !important;\" data-html=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 onload=\"this.contentDocument.open();this.contentDocument.write(atob(this.getAttribute('data-html')));this.contentDocument.close();\" allowfullscreen webkitallowfullscreen mozallowfullscreen></iframe></div></div>"
            ],
            "text/plain": [
              "<folium.folium.Map at 0x7fe913576748>"
            ]
          },
          "metadata": {
            "tags": []
          },
          "execution_count": 15
        }
      ]
    },
    {
      "cell_type": "code",
      "metadata": {
        "id": "gVd_h8soXxLm",
        "colab_type": "code",
        "colab": {
          "base_uri": "https://localhost:8080/",
          "height": 882
        },
        "outputId": "f3e24a40-2f7b-41c6-a1ce-7dd1184ab87c"
      },
      "source": [
        "s1_im_list=s1_find_date('2019-04-20','2019-05-01')\n",
        "s1_im2= ee.Image(s1_im_list.get(13))\n",
        "\n",
        "tk = s1_im2.getMapId({'min': [-25, -20, -25], 'max': [0, 10, 0]})\n",
        "Mapdisplay(center,{'composite':tk},zoom_start=7)"
      ],
      "execution_count": null,
      "outputs": [
        {
          "output_type": "stream",
          "text": [
            "[20190420, 20190422, 20190424, 20190427, 20190429, 20190429, 20190421, 20190421, 20190423, 20190425, 20190426, 20190426, 20190428, 20190430]\n"
          ],
          "name": "stdout"
        },
        {
          "output_type": "execute_result",
          "data": {
            "text/html": [
              "<div style=\"width:100%;\"><div style=\"position:relative;width:100%;height:0;padding-bottom:60%;\"><span style=\"color:#565656\">Make this Notebook Trusted to load map: File -> Trust Notebook</span><iframe src=\"about:blank\" style=\"position:absolute;width:100%;height:100%;left:0;top:0;border:none !important;\" data-html=PCFET0NUWVBFIGh0bWw+CjxoZWFkPiAgICAKICAgIDxtZXRhIGh0dHAtZXF1aXY9ImNvbnRlbnQtdHlwZSIgY29udGVudD0idGV4dC9odG1sOyBjaGFyc2V0PVVURi04IiAvPgogICAgPHNjcmlwdD5MX1BSRUZFUl9DQU5WQVM9ZmFsc2U7IExfTk9fVE9VQ0g9ZmFsc2U7IExfRElTQUJMRV8zRD1mYWxzZTs8L3NjcmlwdD4KICAgIDxzY3JpcHQgc3JjPSJodHRwczovL2Nkbi5qc2RlbGl2ci5uZXQvbnBtL2xlYWZsZXRAMS40LjAvZGlzdC9sZWFmbGV0LmpzIj48L3NjcmlwdD4KICAgIDxzY3JpcHQgc3JjPSJodHRwczovL2NvZGUuanF1ZXJ5LmNvbS9qcXVlcnktMS4xMi40Lm1pbi5qcyI+PC9zY3JpcHQ+CiAgICA8c2NyaXB0IHNyYz0iaHR0cHM6Ly9tYXhjZG4uYm9vdHN0cmFwY2RuLmNvbS9ib290c3RyYXAvMy4yLjAvanMvYm9vdHN0cmFwLm1pbi5qcyI+PC9zY3JpcHQ+CiAgICA8c2NyaXB0IHNyYz0iaHR0cHM6Ly9jZG5qcy5jbG91ZGZsYXJlLmNvbS9hamF4L2xpYnMvTGVhZmxldC5hd2Vzb21lLW1hcmtlcnMvMi4wLjIvbGVhZmxldC5hd2Vzb21lLW1hcmtlcnMuanMiPjwvc2NyaXB0PgogICAgPGxpbmsgcmVsPSJzdHlsZXNoZWV0IiBocmVmPSJodHRwczovL2Nkbi5qc2RlbGl2ci5uZXQvbnBtL2xlYWZsZXRAMS40LjAvZGlzdC9sZWFmbGV0LmNzcyIvPgogICAgPGxpbmsgcmVsPSJzdHlsZXNoZWV0IiBocmVmPSJodHRwczovL21heGNkbi5ib290c3RyYXBjZG4uY29tL2Jvb3RzdHJhcC8zLjIuMC9jc3MvYm9vdHN0cmFwLm1pbi5jc3MiLz4KICAgIDxsaW5rIHJlbD0ic3R5bGVzaGVldCIgaHJlZj0iaHR0cHM6Ly9tYXhjZG4uYm9vdHN0cmFwY2RuLmNvbS9ib290c3RyYXAvMy4yLjAvY3NzL2Jvb3RzdHJhcC10aGVtZS5taW4uY3NzIi8+CiAgICA8bGluayByZWw9InN0eWxlc2hlZXQiIGhyZWY9Imh0dHBzOi8vbWF4Y2RuLmJvb3RzdHJhcGNkbi5jb20vZm9udC1hd2Vzb21lLzQuNi4zL2Nzcy9mb250LWF3ZXNvbWUubWluLmNzcyIvPgogICAgPGxpbmsgcmVsPSJzdHlsZXNoZWV0IiBocmVmPSJodHRwczovL2NkbmpzLmNsb3VkZmxhcmUuY29tL2FqYXgvbGlicy9MZWFmbGV0LmF3ZXNvbWUtbWFya2Vycy8yLjAuMi9sZWFmbGV0LmF3ZXNvbWUtbWFya2Vycy5jc3MiLz4KICAgIDxsaW5rIHJlbD0ic3R5bGVzaGVldCIgaHJlZj0iaHR0cHM6Ly9yYXdjZG4uZ2l0aGFjay5jb20vcHl0aG9uLXZpc3VhbGl6YXRpb24vZm9saXVtL21hc3Rlci9mb2xpdW0vdGVtcGxhdGVzL2xlYWZsZXQuYXdlc29tZS5yb3RhdGUuY3NzIi8+CiAgICA8c3R5bGU+aHRtbCwgYm9keSB7d2lkdGg6IDEwMCU7aGVpZ2h0OiAxMDAlO21hcmdpbjogMDtwYWRkaW5nOiAwO308L3N0eWxlPgogICAgPHN0eWxlPiNtYXAge3Bvc2l0aW9uOmFic29sdXRlO3RvcDowO2JvdHRvbTowO3JpZ2h0OjA7bGVmdDowO308L3N0eWxlPgogICAgCiAgICA8bWV0YSBuYW1lPSJ2aWV3cG9ydCIgY29udGVudD0id2lkdGg9ZGV2aWNlLXdpZHRoLAogICAgICAgIGluaXRpYWwtc2NhbGU9MS4wLCBtYXhpbXVtLXNjYWxlPTEuMCwgdXNlci1zY2FsYWJsZT1ubyIgLz4KICAgIDxzdHlsZT4jbWFwXzc0NWIwY2ZkZjAzMDRhZmVhYTVhMDZjNzU0YmI5MDAwIHsKICAgICAgICBwb3NpdGlvbjogcmVsYXRpdmU7CiAgICAgICAgd2lkdGg6IDEwMC4wJTsKICAgICAgICBoZWlnaHQ6IDEwMC4wJTsKICAgICAgICBsZWZ0OiAwLjAlOwogICAgICAgIHRvcDogMC4wJTsKICAgICAgICB9CiAgICA8L3N0eWxlPgo8L2hlYWQ+Cjxib2R5PiAgICAKICAgIAogICAgPGRpdiBjbGFzcz0iZm9saXVtLW1hcCIgaWQ9Im1hcF83NDViMGNmZGYwMzA0YWZlYWE1YTA2Yzc1NGJiOTAwMCIgPjwvZGl2Pgo8L2JvZHk+CjxzY3JpcHQ+ICAgIAogICAgCiAgICAKICAgICAgICB2YXIgYm91bmRzID0gbnVsbDsKICAgIAoKICAgIHZhciBtYXBfNzQ1YjBjZmRmMDMwNGFmZWFhNWEwNmM3NTRiYjkwMDAgPSBMLm1hcCgKICAgICAgICAnbWFwXzc0NWIwY2ZkZjAzMDRhZmVhYTVhMDZjNzU0YmI5MDAwJywgewogICAgICAgIGNlbnRlcjogWzUxLjEsIC0wLjgzMV0sCiAgICAgICAgem9vbTogNywKICAgICAgICBtYXhCb3VuZHM6IGJvdW5kcywKICAgICAgICBsYXllcnM6IFtdLAogICAgICAgIHdvcmxkQ29weUp1bXA6IGZhbHNlLAogICAgICAgIGNyczogTC5DUlMuRVBTRzM4NTcsCiAgICAgICAgem9vbUNvbnRyb2w6IHRydWUsCiAgICAgICAgfSk7CgoKICAgIAogICAgdmFyIHRpbGVfbGF5ZXJfNmEyMTdhMmU0MTFlNDdmNDkzMzNmMTNjM2ZhMzE1MDcgPSBMLnRpbGVMYXllcigKICAgICAgICAnaHR0cHM6Ly97c30udGlsZS5vcGVuc3RyZWV0bWFwLm9yZy97en0ve3h9L3t5fS5wbmcnLAogICAgICAgIHsKICAgICAgICAiYXR0cmlidXRpb24iOiBudWxsLAogICAgICAgICJkZXRlY3RSZXRpbmEiOiBmYWxzZSwKICAgICAgICAibWF4TmF0aXZlWm9vbSI6IDE4LAogICAgICAgICJtYXhab29tIjogMTgsCiAgICAgICAgIm1pblpvb20iOiAwLAogICAgICAgICJub1dyYXAiOiBmYWxzZSwKICAgICAgICAib3BhY2l0eSI6IDEsCiAgICAgICAgInN1YmRvbWFpbnMiOiAiYWJjIiwKICAgICAgICAidG1zIjogZmFsc2UKfSkuYWRkVG8obWFwXzc0NWIwY2ZkZjAzMDRhZmVhYTVhMDZjNzU0YmI5MDAwKTsKICAgIHZhciB0aWxlX2xheWVyXzMzZmNlZjhhN2Q0NjQ2NDViZjc3ZjRmYmY3ZDAwYzg4ID0gTC50aWxlTGF5ZXIoCiAgICAgICAgJ2h0dHBzOi8vZWFydGhlbmdpbmUuZ29vZ2xlYXBpcy5jb20vdjFhbHBoYS9wcm9qZWN0cy9lYXJ0aGVuZ2luZS1sZWdhY3kvbWFwcy9lMzg3NmFjYzY0N2RlMDQ1ZjhmMDc2YWQ5ZGY4ZGZlNy00OGYxMGU4OTkzOTYxNmUyZWVhNThjYzIyMWQ2ZDQwMy90aWxlcy97en0ve3h9L3t5fScsCiAgICAgICAgewogICAgICAgICJhdHRyaWJ1dGlvbiI6ICJHb29nbGUgRWFydGggRW5naW5lIiwKICAgICAgICAiZGV0ZWN0UmV0aW5hIjogZmFsc2UsCiAgICAgICAgIm1heE5hdGl2ZVpvb20iOiAxOCwKICAgICAgICAibWF4Wm9vbSI6IDE4LAogICAgICAgICJtaW5ab29tIjogMCwKICAgICAgICAibm9XcmFwIjogZmFsc2UsCiAgICAgICAgIm9wYWNpdHkiOiAxLAogICAgICAgICJzdWJkb21haW5zIjogImFiYyIsCiAgICAgICAgInRtcyI6IGZhbHNlCn0pLmFkZFRvKG1hcF83NDViMGNmZGYwMzA0YWZlYWE1YTA2Yzc1NGJiOTAwMCk7CiAgICAKICAgICAgICAgICAgdmFyIGxheWVyX2NvbnRyb2xfMTgzYTA3ZDg4MzdlNDljOTk2ZjRkZDBjMWYzNGFmMTUgPSB7CiAgICAgICAgICAgICAgICBiYXNlX2xheWVycyA6IHsgIm9wZW5zdHJlZXRtYXAiIDogdGlsZV9sYXllcl82YTIxN2EyZTQxMWU0N2Y0OTMzM2YxM2MzZmEzMTUwNywgfSwKICAgICAgICAgICAgICAgIG92ZXJsYXlzIDogeyAiY29tcG9zaXRlIiA6IHRpbGVfbGF5ZXJfMzNmY2VmOGE3ZDQ2NDY0NWJmNzdmNGZiZjdkMDBjODgsIH0KICAgICAgICAgICAgICAgIH07CiAgICAgICAgICAgIEwuY29udHJvbC5sYXllcnMoCiAgICAgICAgICAgICAgICBsYXllcl9jb250cm9sXzE4M2EwN2Q4ODM3ZTQ5Yzk5NmY0ZGQwYzFmMzRhZjE1LmJhc2VfbGF5ZXJzLAogICAgICAgICAgICAgICAgbGF5ZXJfY29udHJvbF8xODNhMDdkODgzN2U0OWM5OTZmNGRkMGMxZjM0YWYxNS5vdmVybGF5cywKICAgICAgICAgICAgICAgIHtwb3NpdGlvbjogJ3RvcHJpZ2h0JywKICAgICAgICAgICAgICAgICBjb2xsYXBzZWQ6IHRydWUsCiAgICAgICAgICAgICAgICAgYXV0b1pJbmRleDogdHJ1ZQogICAgICAgICAgICAgICAgfSkuYWRkVG8obWFwXzc0NWIwY2ZkZjAzMDRhZmVhYTVhMDZjNzU0YmI5MDAwKTsKICAgICAgICAgICAgCiAgICAgICAgCjwvc2NyaXB0Pg== onload=\"this.contentDocument.open();this.contentDocument.write(atob(this.getAttribute('data-html')));this.contentDocument.close();\" allowfullscreen webkitallowfullscreen mozallowfullscreen></iframe></div></div>"
            ],
            "text/plain": [
              "<folium.folium.Map at 0x7fe913677208>"
            ]
          },
          "metadata": {
            "tags": []
          },
          "execution_count": 18
        }
      ]
    },
    {
      "cell_type": "code",
      "metadata": {
        "id": "SI3hWRyyRsXv",
        "colab_type": "code",
        "colab": {
          "base_uri": "https://localhost:8080/",
          "height": 882
        },
        "outputId": "dd3f57dd-ce2c-41ef-e78a-05c67bdd0c80"
      },
      "source": [
        "s1_im_list=s1_find_date('2019-06-22','2019-06-24')\n",
        "\n",
        "s1_im3= ee.Image(s1_im_list.get(0))\n",
        "tk = s1_im3.getMapId({'min': [-25, -20, -25], 'max': [0, 10, 0]})\n",
        "Mapdisplay(center,{'composite':tk},zoom_start=7)"
      ],
      "execution_count": null,
      "outputs": [
        {
          "output_type": "stream",
          "text": [
            "[20190623, 20190622]\n"
          ],
          "name": "stdout"
        },
        {
          "output_type": "execute_result",
          "data": {
            "text/html": [
              "<div style=\"width:100%;\"><div style=\"position:relative;width:100%;height:0;padding-bottom:60%;\"><span style=\"color:#565656\">Make this Notebook Trusted to load map: File -> Trust Notebook</span><iframe src=\"about:blank\" style=\"position:absolute;width:100%;height:100%;left:0;top:0;border:none !important;\" data-html=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 onload=\"this.contentDocument.open();this.contentDocument.write(atob(this.getAttribute('data-html')));this.contentDocument.close();\" allowfullscreen webkitallowfullscreen mozallowfullscreen></iframe></div></div>"
            ],
            "text/plain": [
              "<folium.folium.Map at 0x7fe9135b8860>"
            ]
          },
          "metadata": {
            "tags": []
          },
          "execution_count": 21
        }
      ]
    },
    {
      "cell_type": "code",
      "metadata": {
        "id": "pUAti1udJsM8",
        "colab_type": "code",
        "colab": {}
      },
      "source": [
        "#Extract satellite band information for all our polygons\n",
        "#Restricted to only 3 bands at a time\n",
        "def feature_extract(fc,img,fol):\n",
        "  asset_name='users/aghajaniwork/'+fc\n",
        "  polygons= ee.FeatureCollection(asset_name)\n",
        "\n",
        "  polygon_stats=img.reduceRegions(**{\n",
        "    'collection':polygons,\n",
        "    'reducer':ee.Reducer.median(),\n",
        "    'scale':  10 \n",
        "  })\n",
        "\n",
        "  task=ee.batch.Export.table.toDrive(**{\n",
        "  'collection': polygon_stats,\n",
        "  'description': fc,\n",
        "  'fileFormat': 'SHP',\n",
        "  'folder':fol\n",
        "  })\n",
        "\n",
        "  task.start()\n",
        "\n",
        "  while task.active():\n",
        "    print('Extraction Processing...'.format(task.id))\n",
        "    time.sleep(30)\n",
        "\n",
        "  return  task.status() \n"
      ],
      "execution_count": null,
      "outputs": []
    },
    {
      "cell_type": "code",
      "metadata": {
        "id": "72GU7E7TKa4O",
        "colab_type": "code",
        "colab": {
          "base_uri": "https://localhost:8080/",
          "height": 1000
        },
        "outputId": "6969148d-cd9a-474c-a262-43cafa5bf87d"
      },
      "source": [
        "feature_extract('2polygons_all',s1_im,'s1_extraction')"
      ],
      "execution_count": null,
      "outputs": [
        {
          "output_type": "stream",
          "text": [
            "Extraction Processing...\n",
            "Extraction Processing...\n",
            "Extraction Processing...\n",
            "Extraction Processing...\n",
            "Extraction Processing...\n",
            "Extraction Processing...\n",
            "Extraction Processing...\n",
            "Extraction Processing...\n",
            "Extraction Processing...\n",
            "Extraction Processing...\n",
            "Extraction Processing...\n",
            "Extraction Processing...\n",
            "Extraction Processing...\n",
            "Extraction Processing...\n",
            "Extraction Processing...\n",
            "Extraction Processing...\n",
            "Extraction Processing...\n",
            "Extraction Processing...\n",
            "Extraction Processing...\n",
            "Extraction Processing...\n",
            "Extraction Processing...\n",
            "Extraction Processing...\n",
            "Extraction Processing...\n",
            "Extraction Processing...\n",
            "Extraction Processing...\n",
            "Extraction Processing...\n",
            "Extraction Processing...\n",
            "Extraction Processing...\n",
            "Extraction Processing...\n",
            "Extraction Processing...\n",
            "Extraction Processing...\n",
            "Extraction Processing...\n",
            "Extraction Processing...\n",
            "Extraction Processing...\n",
            "Extraction Processing...\n",
            "Extraction Processing...\n",
            "Extraction Processing...\n",
            "Extraction Processing...\n",
            "Extraction Processing...\n",
            "Extraction Processing...\n",
            "Extraction Processing...\n",
            "Extraction Processing...\n",
            "Extraction Processing...\n",
            "Extraction Processing...\n",
            "Extraction Processing...\n",
            "Extraction Processing...\n",
            "Extraction Processing...\n",
            "Extraction Processing...\n",
            "Extraction Processing...\n",
            "Extraction Processing...\n",
            "Extraction Processing...\n",
            "Extraction Processing...\n",
            "Extraction Processing...\n",
            "Extraction Processing...\n",
            "Extraction Processing...\n",
            "Extraction Processing...\n",
            "Extraction Processing...\n",
            "Extraction Processing...\n",
            "Extraction Processing...\n",
            "Extraction Processing...\n",
            "Extraction Processing...\n",
            "Extraction Processing...\n",
            "Extraction Processing...\n",
            "Extraction Processing...\n",
            "Extraction Processing...\n",
            "Extraction Processing...\n",
            "Extraction Processing...\n",
            "Extraction Processing...\n",
            "Extraction Processing...\n",
            "Extraction Processing...\n",
            "Extraction Processing...\n",
            "Extraction Processing...\n",
            "Extraction Processing...\n",
            "Extraction Processing...\n",
            "Extraction Processing...\n",
            "Extraction Processing...\n",
            "Extraction Processing...\n",
            "Extraction Processing...\n",
            "Extraction Processing...\n",
            "Extraction Processing...\n",
            "Extraction Processing...\n",
            "Extraction Processing...\n",
            "Extraction Processing...\n",
            "Extraction Processing...\n",
            "Extraction Processing...\n",
            "Extraction Processing...\n",
            "Extraction Processing...\n",
            "Extraction Processing...\n",
            "Extraction Processing...\n",
            "Extraction Processing...\n",
            "Extraction Processing...\n",
            "Extraction Processing...\n",
            "Extraction Processing...\n",
            "Extraction Processing...\n",
            "Extraction Processing...\n",
            "Extraction Processing...\n",
            "Extraction Processing...\n",
            "Extraction Processing...\n",
            "Extraction Processing...\n",
            "Extraction Processing...\n",
            "Extraction Processing...\n",
            "Extraction Processing...\n",
            "Extraction Processing...\n",
            "Extraction Processing...\n",
            "Extraction Processing...\n",
            "Extraction Processing...\n",
            "Extraction Processing...\n",
            "Extraction Processing...\n",
            "Extraction Processing...\n",
            "Extraction Processing...\n",
            "Extraction Processing...\n",
            "Extraction Processing...\n",
            "Extraction Processing...\n",
            "Extraction Processing...\n",
            "Extraction Processing...\n"
          ],
          "name": "stdout"
        },
        {
          "output_type": "execute_result",
          "data": {
            "text/plain": [
              "{'creation_timestamp_ms': 1595365052057,\n",
              " 'description': '2polygons_all',\n",
              " 'destination_uris': ['https://drive.google.com/#folders/1Bll2j2-yPPiX0D8crovKkgAbF2Oi02LX',\n",
              "  'https://drive.google.com/#folders/1Bll2j2-yPPiX0D8crovKkgAbF2Oi02LX',\n",
              "  'https://drive.google.com/#folders/1Bll2j2-yPPiX0D8crovKkgAbF2Oi02LX',\n",
              "  'https://drive.google.com/#folders/1Bll2j2-yPPiX0D8crovKkgAbF2Oi02LX',\n",
              "  'https://drive.google.com/#folders/1Bll2j2-yPPiX0D8crovKkgAbF2Oi02LX',\n",
              "  'https://drive.google.com/#folders/1Bll2j2-yPPiX0D8crovKkgAbF2Oi02LX'],\n",
              " 'id': 'UOFZ4KAGLD5FWRKJSMPBEBGJ',\n",
              " 'name': 'projects/earthengine-legacy/operations/UOFZ4KAGLD5FWRKJSMPBEBGJ',\n",
              " 'start_timestamp_ms': 1595365081798,\n",
              " 'state': 'COMPLETED',\n",
              " 'task_type': 'EXPORT_FEATURES',\n",
              " 'update_timestamp_ms': 1595366801478}"
            ]
          },
          "metadata": {
            "tags": []
          },
          "execution_count": 36
        }
      ]
    },
    {
      "cell_type": "code",
      "metadata": {
        "id": "2AqWRxPgYdQD",
        "colab_type": "code",
        "colab": {
          "base_uri": "https://localhost:8080/",
          "height": 1000
        },
        "outputId": "d6bd3af7-f10c-489d-e018-4b44504e4c11"
      },
      "source": [
        "feature_extract('2polygons_all',s1_im2,'s1_extraction2')"
      ],
      "execution_count": null,
      "outputs": [
        {
          "output_type": "stream",
          "text": [
            "Extraction Processing...\n",
            "Extraction Processing...\n",
            "Extraction Processing...\n",
            "Extraction Processing...\n",
            "Extraction Processing...\n",
            "Extraction Processing...\n",
            "Extraction Processing...\n",
            "Extraction Processing...\n",
            "Extraction Processing...\n",
            "Extraction Processing...\n",
            "Extraction Processing...\n",
            "Extraction Processing...\n",
            "Extraction Processing...\n",
            "Extraction Processing...\n",
            "Extraction Processing...\n",
            "Extraction Processing...\n",
            "Extraction Processing...\n",
            "Extraction Processing...\n",
            "Extraction Processing...\n",
            "Extraction Processing...\n",
            "Extraction Processing...\n",
            "Extraction Processing...\n",
            "Extraction Processing...\n",
            "Extraction Processing...\n",
            "Extraction Processing...\n",
            "Extraction Processing...\n",
            "Extraction Processing...\n",
            "Extraction Processing...\n",
            "Extraction Processing...\n",
            "Extraction Processing...\n",
            "Extraction Processing...\n",
            "Extraction Processing...\n",
            "Extraction Processing...\n",
            "Extraction Processing...\n",
            "Extraction Processing...\n",
            "Extraction Processing...\n",
            "Extraction Processing...\n",
            "Extraction Processing...\n",
            "Extraction Processing...\n",
            "Extraction Processing...\n",
            "Extraction Processing...\n",
            "Extraction Processing...\n",
            "Extraction Processing...\n",
            "Extraction Processing...\n",
            "Extraction Processing...\n",
            "Extraction Processing...\n",
            "Extraction Processing...\n",
            "Extraction Processing...\n",
            "Extraction Processing...\n",
            "Extraction Processing...\n",
            "Extraction Processing...\n",
            "Extraction Processing...\n",
            "Extraction Processing...\n",
            "Extraction Processing...\n"
          ],
          "name": "stdout"
        },
        {
          "output_type": "execute_result",
          "data": {
            "text/plain": [
              "{'creation_timestamp_ms': 1597096723101,\n",
              " 'description': '2polygons_all',\n",
              " 'destination_uris': ['https://drive.google.com/#folders/1PuAGn7Z-Q509QwPVjUn3cemrpHSDO15y',\n",
              "  'https://drive.google.com/#folders/1PuAGn7Z-Q509QwPVjUn3cemrpHSDO15y',\n",
              "  'https://drive.google.com/#folders/1PuAGn7Z-Q509QwPVjUn3cemrpHSDO15y',\n",
              "  'https://drive.google.com/#folders/1PuAGn7Z-Q509QwPVjUn3cemrpHSDO15y',\n",
              "  'https://drive.google.com/#folders/1PuAGn7Z-Q509QwPVjUn3cemrpHSDO15y',\n",
              "  'https://drive.google.com/#folders/1PuAGn7Z-Q509QwPVjUn3cemrpHSDO15y'],\n",
              " 'id': 'UTEIHZ3QVHJ2I3WXFXPTNTXO',\n",
              " 'name': 'projects/earthengine-legacy/operations/UTEIHZ3QVHJ2I3WXFXPTNTXO',\n",
              " 'start_timestamp_ms': 1597096733822,\n",
              " 'state': 'COMPLETED',\n",
              " 'task_type': 'EXPORT_FEATURES',\n",
              " 'update_timestamp_ms': 1597098337205}"
            ]
          },
          "metadata": {
            "tags": []
          },
          "execution_count": 21
        }
      ]
    },
    {
      "cell_type": "code",
      "metadata": {
        "id": "PxYDKfx9A4dj",
        "colab_type": "code",
        "colab": {
          "base_uri": "https://localhost:8080/",
          "height": 1000
        },
        "outputId": "0a4c7133-2330-4928-c9e6-48bc10e45a3c"
      },
      "source": [
        "feature_extract('2polygons_all',s1_im3,'s1_extraction4')"
      ],
      "execution_count": null,
      "outputs": [
        {
          "output_type": "stream",
          "text": [
            "Extraction Processing...\n",
            "Extraction Processing...\n",
            "Extraction Processing...\n",
            "Extraction Processing...\n",
            "Extraction Processing...\n",
            "Extraction Processing...\n",
            "Extraction Processing...\n",
            "Extraction Processing...\n",
            "Extraction Processing...\n",
            "Extraction Processing...\n",
            "Extraction Processing...\n",
            "Extraction Processing...\n",
            "Extraction Processing...\n",
            "Extraction Processing...\n",
            "Extraction Processing...\n",
            "Extraction Processing...\n",
            "Extraction Processing...\n",
            "Extraction Processing...\n",
            "Extraction Processing...\n",
            "Extraction Processing...\n",
            "Extraction Processing...\n",
            "Extraction Processing...\n",
            "Extraction Processing...\n",
            "Extraction Processing...\n",
            "Extraction Processing...\n",
            "Extraction Processing...\n",
            "Extraction Processing...\n",
            "Extraction Processing...\n",
            "Extraction Processing...\n",
            "Extraction Processing...\n",
            "Extraction Processing...\n",
            "Extraction Processing...\n",
            "Extraction Processing...\n",
            "Extraction Processing...\n",
            "Extraction Processing...\n",
            "Extraction Processing...\n",
            "Extraction Processing...\n",
            "Extraction Processing...\n",
            "Extraction Processing...\n",
            "Extraction Processing...\n",
            "Extraction Processing...\n",
            "Extraction Processing...\n",
            "Extraction Processing...\n",
            "Extraction Processing...\n",
            "Extraction Processing...\n",
            "Extraction Processing...\n",
            "Extraction Processing...\n",
            "Extraction Processing...\n",
            "Extraction Processing...\n",
            "Extraction Processing...\n",
            "Extraction Processing...\n",
            "Extraction Processing...\n"
          ],
          "name": "stdout"
        },
        {
          "output_type": "execute_result",
          "data": {
            "text/plain": [
              "{'creation_timestamp_ms': 1597189933704,\n",
              " 'description': '2polygons_all',\n",
              " 'destination_uris': ['https://drive.google.com/#folders/129idSZoT40Yxt0PqTT7YunHmEVYABxhB',\n",
              "  'https://drive.google.com/#folders/129idSZoT40Yxt0PqTT7YunHmEVYABxhB',\n",
              "  'https://drive.google.com/#folders/129idSZoT40Yxt0PqTT7YunHmEVYABxhB',\n",
              "  'https://drive.google.com/#folders/129idSZoT40Yxt0PqTT7YunHmEVYABxhB',\n",
              "  'https://drive.google.com/#folders/129idSZoT40Yxt0PqTT7YunHmEVYABxhB',\n",
              "  'https://drive.google.com/#folders/129idSZoT40Yxt0PqTT7YunHmEVYABxhB'],\n",
              " 'id': '2CU7BB2YYQ7SUWMM37WDBNBF',\n",
              " 'name': 'projects/earthengine-legacy/operations/2CU7BB2YYQ7SUWMM37WDBNBF',\n",
              " 'start_timestamp_ms': 1597189946507,\n",
              " 'state': 'COMPLETED',\n",
              " 'task_type': 'EXPORT_FEATURES',\n",
              " 'update_timestamp_ms': 1597191485787}"
            ]
          },
          "metadata": {
            "tags": []
          },
          "execution_count": 24
        }
      ]
    },
    {
      "cell_type": "code",
      "metadata": {
        "id": "oIfkaE0GKBqe",
        "colab_type": "code",
        "colab": {
          "base_uri": "https://localhost:8080/",
          "height": 806
        },
        "outputId": "a4185f86-2ee2-4201-f85d-49ca19168d11"
      },
      "source": [
        "veg_1=veg.select(['NDVI', 'NDWI'])\n",
        "\n",
        "feature_extract('2polygons_all',veg_1,'veg_index1')\n"
      ],
      "execution_count": null,
      "outputs": [
        {
          "output_type": "stream",
          "text": [
            "Extraction Processing...\n",
            "Extraction Processing...\n",
            "Extraction Processing...\n",
            "Extraction Processing...\n",
            "Extraction Processing...\n",
            "Extraction Processing...\n",
            "Extraction Processing...\n",
            "Extraction Processing...\n",
            "Extraction Processing...\n",
            "Extraction Processing...\n",
            "Extraction Processing...\n",
            "Extraction Processing...\n",
            "Extraction Processing...\n",
            "Extraction Processing...\n",
            "Extraction Processing...\n",
            "Extraction Processing...\n",
            "Extraction Processing...\n",
            "Extraction Processing...\n",
            "Extraction Processing...\n",
            "Extraction Processing...\n",
            "Extraction Processing...\n",
            "Extraction Processing...\n",
            "Extraction Processing...\n",
            "Extraction Processing...\n",
            "Extraction Processing...\n",
            "Extraction Processing...\n",
            "Extraction Processing...\n",
            "Extraction Processing...\n",
            "Extraction Processing...\n",
            "Extraction Processing...\n",
            "Extraction Processing...\n",
            "Extraction Processing...\n",
            "Extraction Processing...\n"
          ],
          "name": "stdout"
        },
        {
          "output_type": "execute_result",
          "data": {
            "text/plain": [
              "{'creation_timestamp_ms': 1595421730419,\n",
              " 'description': '2polygons_all',\n",
              " 'destination_uris': ['https://drive.google.com/#folders/1ccmXbeHvGnpPhfpIqIqec1Bcsf8ljGoW',\n",
              "  'https://drive.google.com/#folders/1ccmXbeHvGnpPhfpIqIqec1Bcsf8ljGoW',\n",
              "  'https://drive.google.com/#folders/1ccmXbeHvGnpPhfpIqIqec1Bcsf8ljGoW',\n",
              "  'https://drive.google.com/#folders/1ccmXbeHvGnpPhfpIqIqec1Bcsf8ljGoW',\n",
              "  'https://drive.google.com/#folders/1ccmXbeHvGnpPhfpIqIqec1Bcsf8ljGoW',\n",
              "  'https://drive.google.com/#folders/1ccmXbeHvGnpPhfpIqIqec1Bcsf8ljGoW'],\n",
              " 'id': '2E55I3WW6DQRQCYNT3LVWTHR',\n",
              " 'name': 'projects/earthengine-legacy/operations/2E55I3WW6DQRQCYNT3LVWTHR',\n",
              " 'start_timestamp_ms': 1595421861230,\n",
              " 'state': 'COMPLETED',\n",
              " 'task_type': 'EXPORT_FEATURES',\n",
              " 'update_timestamp_ms': 1595422724585}"
            ]
          },
          "metadata": {
            "tags": []
          },
          "execution_count": 37
        }
      ]
    },
    {
      "cell_type": "code",
      "metadata": {
        "id": "VMZhrb2DiDd8",
        "colab_type": "code",
        "colab": {
          "base_uri": "https://localhost:8080/",
          "height": 689
        },
        "outputId": "91c58200-e21c-4d9d-b76c-59d9824de7b3"
      },
      "source": [
        "veg_2=veg.select(['EVI2', 'CL'])\n",
        "\n",
        "feature_extract('2polygons_all',veg_2,'veg_index2')\n"
      ],
      "execution_count": null,
      "outputs": [
        {
          "output_type": "stream",
          "text": [
            "Extraction Processing...\n",
            "Extraction Processing...\n",
            "Extraction Processing...\n",
            "Extraction Processing...\n",
            "Extraction Processing...\n",
            "Extraction Processing...\n",
            "Extraction Processing...\n",
            "Extraction Processing...\n",
            "Extraction Processing...\n",
            "Extraction Processing...\n",
            "Extraction Processing...\n",
            "Extraction Processing...\n",
            "Extraction Processing...\n",
            "Extraction Processing...\n",
            "Extraction Processing...\n",
            "Extraction Processing...\n",
            "Extraction Processing...\n",
            "Extraction Processing...\n",
            "Extraction Processing...\n",
            "Extraction Processing...\n",
            "Extraction Processing...\n",
            "Extraction Processing...\n",
            "Extraction Processing...\n",
            "Extraction Processing...\n",
            "Extraction Processing...\n",
            "Extraction Processing...\n"
          ],
          "name": "stdout"
        },
        {
          "output_type": "execute_result",
          "data": {
            "text/plain": [
              "{'creation_timestamp_ms': 1595423051996,\n",
              " 'description': '2polygons_all',\n",
              " 'destination_uris': ['https://drive.google.com/#folders/1zHIkGCAkRhywFG4fUePHAii_7xsbuj-t',\n",
              "  'https://drive.google.com/#folders/1zHIkGCAkRhywFG4fUePHAii_7xsbuj-t',\n",
              "  'https://drive.google.com/#folders/1zHIkGCAkRhywFG4fUePHAii_7xsbuj-t',\n",
              "  'https://drive.google.com/#folders/1zHIkGCAkRhywFG4fUePHAii_7xsbuj-t',\n",
              "  'https://drive.google.com/#folders/1zHIkGCAkRhywFG4fUePHAii_7xsbuj-t',\n",
              "  'https://drive.google.com/#folders/1zHIkGCAkRhywFG4fUePHAii_7xsbuj-t'],\n",
              " 'id': 'M2PH5LDDX2P77BTPHL264NJ2',\n",
              " 'name': 'projects/earthengine-legacy/operations/M2PH5LDDX2P77BTPHL264NJ2',\n",
              " 'start_timestamp_ms': 1595423141250,\n",
              " 'state': 'COMPLETED',\n",
              " 'task_type': 'EXPORT_FEATURES',\n",
              " 'update_timestamp_ms': 1595423831430}"
            ]
          },
          "metadata": {
            "tags": []
          },
          "execution_count": 39
        }
      ]
    },
    {
      "cell_type": "code",
      "metadata": {
        "id": "54nZW_VXn0gK",
        "colab_type": "code",
        "colab": {
          "base_uri": "https://localhost:8080/",
          "height": 689
        },
        "outputId": "1816acbe-4afe-4a32-d897-b7ab0e388722"
      },
      "source": [
        "s2_batch1=s2.select(['B1', 'B2'])\n",
        "feature_extract('2polygons_all',s2_batch1,'s2_batch1')\n",
        "#  'B5', 'B6', 'B7', 'B8', 'B8A', 'B9', 'B11', 'B12','QA60'])\n"
      ],
      "execution_count": null,
      "outputs": [
        {
          "output_type": "stream",
          "text": [
            "Extraction Processing...\n",
            "Extraction Processing...\n",
            "Extraction Processing...\n",
            "Extraction Processing...\n",
            "Extraction Processing...\n",
            "Extraction Processing...\n",
            "Extraction Processing...\n",
            "Extraction Processing...\n",
            "Extraction Processing...\n",
            "Extraction Processing...\n",
            "Extraction Processing...\n",
            "Extraction Processing...\n",
            "Extraction Processing...\n",
            "Extraction Processing...\n",
            "Extraction Processing...\n",
            "Extraction Processing...\n",
            "Extraction Processing...\n",
            "Extraction Processing...\n",
            "Extraction Processing...\n",
            "Extraction Processing...\n",
            "Extraction Processing...\n",
            "Extraction Processing...\n",
            "Extraction Processing...\n",
            "Extraction Processing...\n",
            "Extraction Processing...\n",
            "Extraction Processing...\n"
          ],
          "name": "stdout"
        },
        {
          "output_type": "execute_result",
          "data": {
            "text/plain": [
              "{'creation_timestamp_ms': 1595426871440,\n",
              " 'description': '2polygons_all',\n",
              " 'destination_uris': ['https://drive.google.com/#folders/1FZGsvcscYbQBSGxQ32NKAxBdH9U3l5_4',\n",
              "  'https://drive.google.com/#folders/1FZGsvcscYbQBSGxQ32NKAxBdH9U3l5_4',\n",
              "  'https://drive.google.com/#folders/1FZGsvcscYbQBSGxQ32NKAxBdH9U3l5_4',\n",
              "  'https://drive.google.com/#folders/1FZGsvcscYbQBSGxQ32NKAxBdH9U3l5_4',\n",
              "  'https://drive.google.com/#folders/1FZGsvcscYbQBSGxQ32NKAxBdH9U3l5_4',\n",
              "  'https://drive.google.com/#folders/1FZGsvcscYbQBSGxQ32NKAxBdH9U3l5_4'],\n",
              " 'id': 'BHMGHB4OINZUOCVZCYN5NA7B',\n",
              " 'name': 'projects/earthengine-legacy/operations/BHMGHB4OINZUOCVZCYN5NA7B',\n",
              " 'start_timestamp_ms': 1595426879195,\n",
              " 'state': 'COMPLETED',\n",
              " 'task_type': 'EXPORT_FEATURES',\n",
              " 'update_timestamp_ms': 1595427626701}"
            ]
          },
          "metadata": {
            "tags": []
          },
          "execution_count": 40
        }
      ]
    },
    {
      "cell_type": "code",
      "metadata": {
        "id": "lgXtAMiW2hX_",
        "colab_type": "code",
        "colab": {
          "base_uri": "https://localhost:8080/",
          "height": 739
        },
        "outputId": "fd4e0e03-d57a-4018-b5ac-6827db034fc9"
      },
      "source": [
        "s2_batch2=s2.select(['B3', 'B4'])\n",
        "feature_extract('2polygons_all',s2_batch2,'s2_batch2')"
      ],
      "execution_count": null,
      "outputs": [
        {
          "output_type": "stream",
          "text": [
            "Extraction Processing...\n",
            "Extraction Processing...\n",
            "Extraction Processing...\n",
            "Extraction Processing...\n",
            "Extraction Processing...\n",
            "Extraction Processing...\n",
            "Extraction Processing...\n",
            "Extraction Processing...\n",
            "Extraction Processing...\n",
            "Extraction Processing...\n",
            "Extraction Processing...\n",
            "Extraction Processing...\n",
            "Extraction Processing...\n",
            "Extraction Processing...\n",
            "Extraction Processing...\n",
            "Extraction Processing...\n",
            "Extraction Processing...\n",
            "Extraction Processing...\n",
            "Extraction Processing...\n",
            "Extraction Processing...\n",
            "Extraction Processing...\n",
            "Extraction Processing...\n",
            "Extraction Processing...\n",
            "Extraction Processing...\n",
            "Extraction Processing...\n",
            "Extraction Processing...\n",
            "Extraction Processing...\n",
            "Extraction Processing...\n",
            "Extraction Processing...\n"
          ],
          "name": "stdout"
        },
        {
          "output_type": "execute_result",
          "data": {
            "text/plain": [
              "{'creation_timestamp_ms': 1595427657480,\n",
              " 'description': '2polygons_all',\n",
              " 'destination_uris': ['https://drive.google.com/#folders/1K9IuTl6Acr9NrkISzLiRWjP1cB8gXBce',\n",
              "  'https://drive.google.com/#folders/1K9IuTl6Acr9NrkISzLiRWjP1cB8gXBce',\n",
              "  'https://drive.google.com/#folders/1K9IuTl6Acr9NrkISzLiRWjP1cB8gXBce',\n",
              "  'https://drive.google.com/#folders/1K9IuTl6Acr9NrkISzLiRWjP1cB8gXBce',\n",
              "  'https://drive.google.com/#folders/1K9IuTl6Acr9NrkISzLiRWjP1cB8gXBce',\n",
              "  'https://drive.google.com/#folders/1K9IuTl6Acr9NrkISzLiRWjP1cB8gXBce'],\n",
              " 'id': 'H7HF5LC5XRHXKOYE4V4ERYCA',\n",
              " 'name': 'projects/earthengine-legacy/operations/H7HF5LC5XRHXKOYE4V4ERYCA',\n",
              " 'start_timestamp_ms': 1595427678879,\n",
              " 'state': 'COMPLETED',\n",
              " 'task_type': 'EXPORT_FEATURES',\n",
              " 'update_timestamp_ms': 1595428519541}"
            ]
          },
          "metadata": {
            "tags": []
          },
          "execution_count": 41
        }
      ]
    },
    {
      "cell_type": "code",
      "metadata": {
        "id": "xie0IGIX2oX_",
        "colab_type": "code",
        "colab": {
          "base_uri": "https://localhost:8080/",
          "height": 907
        },
        "outputId": "344b4cad-b9b1-4c74-9006-30e2404a0e66"
      },
      "source": [
        "s2_batch3=s2.select(['B5', 'B6'])\n",
        "feature_extract('2polygons_all',s2_batch3,'s2_batch3')"
      ],
      "execution_count": null,
      "outputs": [
        {
          "output_type": "stream",
          "text": [
            "Extraction Processing...\n",
            "Extraction Processing...\n",
            "Extraction Processing...\n",
            "Extraction Processing...\n",
            "Extraction Processing...\n",
            "Extraction Processing...\n",
            "Extraction Processing...\n",
            "Extraction Processing...\n",
            "Extraction Processing...\n",
            "Extraction Processing...\n",
            "Extraction Processing...\n",
            "Extraction Processing...\n",
            "Extraction Processing...\n",
            "Extraction Processing...\n",
            "Extraction Processing...\n",
            "Extraction Processing...\n",
            "Extraction Processing...\n",
            "Extraction Processing...\n",
            "Extraction Processing...\n",
            "Extraction Processing...\n",
            "Extraction Processing...\n",
            "Extraction Processing...\n",
            "Extraction Processing...\n",
            "Extraction Processing...\n",
            "Extraction Processing...\n",
            "Extraction Processing...\n",
            "Extraction Processing...\n",
            "Extraction Processing...\n",
            "Extraction Processing...\n",
            "Extraction Processing...\n",
            "Extraction Processing...\n",
            "Extraction Processing...\n",
            "Extraction Processing...\n",
            "Extraction Processing...\n",
            "Extraction Processing...\n",
            "Extraction Processing...\n",
            "Extraction Processing...\n",
            "Extraction Processing...\n",
            "Extraction Processing...\n"
          ],
          "name": "stdout"
        },
        {
          "output_type": "execute_result",
          "data": {
            "text/plain": [
              "{'creation_timestamp_ms': 1595428533364,\n",
              " 'description': '2polygons_all',\n",
              " 'destination_uris': ['https://drive.google.com/#folders/1ZZEStcB6I0iKpR298Y6_BO51tSZC9U-b',\n",
              "  'https://drive.google.com/#folders/1ZZEStcB6I0iKpR298Y6_BO51tSZC9U-b',\n",
              "  'https://drive.google.com/#folders/1ZZEStcB6I0iKpR298Y6_BO51tSZC9U-b',\n",
              "  'https://drive.google.com/#folders/1ZZEStcB6I0iKpR298Y6_BO51tSZC9U-b',\n",
              "  'https://drive.google.com/#folders/1ZZEStcB6I0iKpR298Y6_BO51tSZC9U-b',\n",
              "  'https://drive.google.com/#folders/1ZZEStcB6I0iKpR298Y6_BO51tSZC9U-b'],\n",
              " 'id': 'ICTQ3VVRVLXKPIJPJCXMTTAD',\n",
              " 'name': 'projects/earthengine-legacy/operations/ICTQ3VVRVLXKPIJPJCXMTTAD',\n",
              " 'start_timestamp_ms': 1595428554220,\n",
              " 'state': 'COMPLETED',\n",
              " 'task_type': 'EXPORT_FEATURES',\n",
              " 'update_timestamp_ms': 1595429708867}"
            ]
          },
          "metadata": {
            "tags": []
          },
          "execution_count": 42
        }
      ]
    },
    {
      "cell_type": "code",
      "metadata": {
        "id": "-gc-58372xzn",
        "colab_type": "code",
        "colab": {
          "base_uri": "https://localhost:8080/",
          "height": 1000
        },
        "outputId": "45291219-3db8-4a93-d28f-5ba6d65c0dd4"
      },
      "source": [
        "s2_batch4=s2.select(['B7', 'B8'])\n",
        "feature_extract('2polygons_all',s2_batch4,'s2_batch4')"
      ],
      "execution_count": null,
      "outputs": [
        {
          "output_type": "stream",
          "text": [
            "Extraction Processing...\n",
            "Extraction Processing...\n",
            "Extraction Processing...\n",
            "Extraction Processing...\n",
            "Extraction Processing...\n",
            "Extraction Processing...\n",
            "Extraction Processing...\n",
            "Extraction Processing...\n",
            "Extraction Processing...\n",
            "Extraction Processing...\n",
            "Extraction Processing...\n",
            "Extraction Processing...\n",
            "Extraction Processing...\n",
            "Extraction Processing...\n",
            "Extraction Processing...\n",
            "Extraction Processing...\n",
            "Extraction Processing...\n",
            "Extraction Processing...\n",
            "Extraction Processing...\n",
            "Extraction Processing...\n",
            "Extraction Processing...\n",
            "Extraction Processing...\n",
            "Extraction Processing...\n",
            "Extraction Processing...\n",
            "Extraction Processing...\n",
            "Extraction Processing...\n",
            "Extraction Processing...\n",
            "Extraction Processing...\n",
            "Extraction Processing...\n",
            "Extraction Processing...\n",
            "Extraction Processing...\n",
            "Extraction Processing...\n",
            "Extraction Processing...\n",
            "Extraction Processing...\n",
            "Extraction Processing...\n",
            "Extraction Processing...\n",
            "Extraction Processing...\n",
            "Extraction Processing...\n",
            "Extraction Processing...\n",
            "Extraction Processing...\n",
            "Extraction Processing...\n",
            "Extraction Processing...\n",
            "Extraction Processing...\n",
            "Extraction Processing...\n",
            "Extraction Processing...\n",
            "Extraction Processing...\n",
            "Extraction Processing...\n"
          ],
          "name": "stdout"
        },
        {
          "output_type": "execute_result",
          "data": {
            "text/plain": [
              "{'creation_timestamp_ms': 1595429710681,\n",
              " 'description': '2polygons_all',\n",
              " 'destination_uris': ['https://drive.google.com/#folders/1YQ0PifJRBamKOtL5yo9ll24OHYoMLKhX',\n",
              "  'https://drive.google.com/#folders/1YQ0PifJRBamKOtL5yo9ll24OHYoMLKhX',\n",
              "  'https://drive.google.com/#folders/1YQ0PifJRBamKOtL5yo9ll24OHYoMLKhX',\n",
              "  'https://drive.google.com/#folders/1YQ0PifJRBamKOtL5yo9ll24OHYoMLKhX',\n",
              "  'https://drive.google.com/#folders/1YQ0PifJRBamKOtL5yo9ll24OHYoMLKhX',\n",
              "  'https://drive.google.com/#folders/1YQ0PifJRBamKOtL5yo9ll24OHYoMLKhX'],\n",
              " 'id': 'TSZYNVYBRAJX2JSBHDNVHAFJ',\n",
              " 'name': 'projects/earthengine-legacy/operations/TSZYNVYBRAJX2JSBHDNVHAFJ',\n",
              " 'start_timestamp_ms': 1595429722699,\n",
              " 'state': 'COMPLETED',\n",
              " 'task_type': 'EXPORT_FEATURES',\n",
              " 'update_timestamp_ms': 1595431109846}"
            ]
          },
          "metadata": {
            "tags": []
          },
          "execution_count": 43
        }
      ]
    },
    {
      "cell_type": "code",
      "metadata": {
        "id": "2o3OhlFS26bi",
        "colab_type": "code",
        "colab": {
          "base_uri": "https://localhost:8080/",
          "height": 722
        },
        "outputId": "eb7cd64b-67fd-49e0-8f36-3f356ac542e6"
      },
      "source": [
        "s2_batch5=s2.select(['B8A', 'B9'])\n",
        "feature_extract('2polygons_all',s2_batch5,'s2_batch5')"
      ],
      "execution_count": null,
      "outputs": [
        {
          "output_type": "stream",
          "text": [
            "Extraction Processing...\n",
            "Extraction Processing...\n",
            "Extraction Processing...\n",
            "Extraction Processing...\n",
            "Extraction Processing...\n",
            "Extraction Processing...\n",
            "Extraction Processing...\n",
            "Extraction Processing...\n",
            "Extraction Processing...\n",
            "Extraction Processing...\n",
            "Extraction Processing...\n",
            "Extraction Processing...\n",
            "Extraction Processing...\n",
            "Extraction Processing...\n",
            "Extraction Processing...\n",
            "Extraction Processing...\n",
            "Extraction Processing...\n",
            "Extraction Processing...\n",
            "Extraction Processing...\n",
            "Extraction Processing...\n",
            "Extraction Processing...\n",
            "Extraction Processing...\n",
            "Extraction Processing...\n",
            "Extraction Processing...\n",
            "Extraction Processing...\n",
            "Extraction Processing...\n",
            "Extraction Processing...\n",
            "Extraction Processing...\n"
          ],
          "name": "stdout"
        },
        {
          "output_type": "execute_result",
          "data": {
            "text/plain": [
              "{'creation_timestamp_ms': 1595431129681,\n",
              " 'description': '2polygons_all',\n",
              " 'destination_uris': ['https://drive.google.com/#folders/18lWi7Pi28222Ktt4E_vATZ-YJJEdId8T',\n",
              "  'https://drive.google.com/#folders/18lWi7Pi28222Ktt4E_vATZ-YJJEdId8T',\n",
              "  'https://drive.google.com/#folders/18lWi7Pi28222Ktt4E_vATZ-YJJEdId8T',\n",
              "  'https://drive.google.com/#folders/18lWi7Pi28222Ktt4E_vATZ-YJJEdId8T',\n",
              "  'https://drive.google.com/#folders/18lWi7Pi28222Ktt4E_vATZ-YJJEdId8T',\n",
              "  'https://drive.google.com/#folders/18lWi7Pi28222Ktt4E_vATZ-YJJEdId8T'],\n",
              " 'id': '773QE4L7NZILO76X3AOPCQDI',\n",
              " 'name': 'projects/earthengine-legacy/operations/773QE4L7NZILO76X3AOPCQDI',\n",
              " 'start_timestamp_ms': 1595431154493,\n",
              " 'state': 'COMPLETED',\n",
              " 'task_type': 'EXPORT_FEATURES',\n",
              " 'update_timestamp_ms': 1595431953161}"
            ]
          },
          "metadata": {
            "tags": []
          },
          "execution_count": 44
        }
      ]
    },
    {
      "cell_type": "code",
      "metadata": {
        "id": "amhqbvr23AEF",
        "colab_type": "code",
        "colab": {
          "base_uri": "https://localhost:8080/",
          "height": 756
        },
        "outputId": "7a298645-8b84-4ad2-cc68-1c7ff0288ded"
      },
      "source": [
        "s2_batch6=s2.select(['B11', 'B12','QA60'])\n",
        "feature_extract('2polygons_all',s2_batch6,'s2_batch6')"
      ],
      "execution_count": null,
      "outputs": [
        {
          "output_type": "stream",
          "text": [
            "Extraction Processing...\n",
            "Extraction Processing...\n",
            "Extraction Processing...\n",
            "Extraction Processing...\n",
            "Extraction Processing...\n",
            "Extraction Processing...\n",
            "Extraction Processing...\n",
            "Extraction Processing...\n",
            "Extraction Processing...\n",
            "Extraction Processing...\n",
            "Extraction Processing...\n",
            "Extraction Processing...\n",
            "Extraction Processing...\n",
            "Extraction Processing...\n",
            "Extraction Processing...\n",
            "Extraction Processing...\n",
            "Extraction Processing...\n",
            "Extraction Processing...\n",
            "Extraction Processing...\n",
            "Extraction Processing...\n",
            "Extraction Processing...\n",
            "Extraction Processing...\n",
            "Extraction Processing...\n",
            "Extraction Processing...\n",
            "Extraction Processing...\n",
            "Extraction Processing...\n",
            "Extraction Processing...\n",
            "Extraction Processing...\n",
            "Extraction Processing...\n",
            "Extraction Processing...\n"
          ],
          "name": "stdout"
        },
        {
          "output_type": "execute_result",
          "data": {
            "text/plain": [
              "{'creation_timestamp_ms': 1595431975969,\n",
              " 'description': '2polygons_all',\n",
              " 'destination_uris': ['https://drive.google.com/#folders/1jg5Z4dHnJ80E5YrOdIyfEnih6LMP99zl',\n",
              "  'https://drive.google.com/#folders/1jg5Z4dHnJ80E5YrOdIyfEnih6LMP99zl',\n",
              "  'https://drive.google.com/#folders/1jg5Z4dHnJ80E5YrOdIyfEnih6LMP99zl',\n",
              "  'https://drive.google.com/#folders/1jg5Z4dHnJ80E5YrOdIyfEnih6LMP99zl',\n",
              "  'https://drive.google.com/#folders/1jg5Z4dHnJ80E5YrOdIyfEnih6LMP99zl',\n",
              "  'https://drive.google.com/#folders/1jg5Z4dHnJ80E5YrOdIyfEnih6LMP99zl'],\n",
              " 'id': 'PZE7QGKV6VDQMY3E6IQQDAVL',\n",
              " 'name': 'projects/earthengine-legacy/operations/PZE7QGKV6VDQMY3E6IQQDAVL',\n",
              " 'start_timestamp_ms': 1595432013795,\n",
              " 'state': 'COMPLETED',\n",
              " 'task_type': 'EXPORT_FEATURES',\n",
              " 'update_timestamp_ms': 1595432864219}"
            ]
          },
          "metadata": {
            "tags": []
          },
          "execution_count": 45
        }
      ]
    },
    {
      "cell_type": "code",
      "metadata": {
        "id": "ZBTAC9DA3Jku",
        "colab_type": "code",
        "colab": {}
      },
      "source": [
        ""
      ],
      "execution_count": null,
      "outputs": []
    }
  ]
}